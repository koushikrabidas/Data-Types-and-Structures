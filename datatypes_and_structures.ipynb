{
 "cells": [
  {
   "cell_type": "markdown",
   "id": "f34eae96",
   "metadata": {},
   "source": [
    "1. What are data structures, and why are they important?\n",
    "    - Data structures are organized ways to store, manage and retrieve data efficiently. It is important for efficient data management, it makes programs faster and smarter."
   ]
  },
  {
   "cell_type": "markdown",
   "id": "8bb16350",
   "metadata": {},
   "source": [
    "2. Explain the difference between mutable and immutable data types with examples.\n",
    "    - Mutable data types are which can be modified or can be changed after creation. Mutable data types are list, dictionary, set. Use cases like shopping cart, Student information, Visitors on a website etc.\n",
    "    Whereas immutable data types are which can not be modified or can not be changed after it's creation. These are strings, tuples. Uses cases like saving username or email, employee id, map coordinates etc."
   ]
  },
  {
   "cell_type": "markdown",
   "id": "2c9d3987",
   "metadata": {},
   "source": [
    "3. What are the main differences between lists and tuples in Python?\n",
    "    - Lists are mutable and tuples are immutable."
   ]
  },
  {
   "cell_type": "markdown",
   "id": "eee65b2e",
   "metadata": {},
   "source": [
    "4. Describe how dictionaries store data.\n",
    "    - Dictionary store data in Key & Value pair. Ex- mydict = {\"a\": 1, \"b\": 2} Also one can store a dictionary inside a dictionary what is called nested dictionary."
   ]
  },
  {
   "cell_type": "markdown",
   "id": "8776c5af",
   "metadata": {},
   "source": [
    "5. Why might you use a set instead of a list in Python?\n",
    "    - I will use set instead of a list in Python whenever i need unique data as we know that there can be duplicate values in list but set has unique values, no value can be repeated twice in set."
   ]
  },
  {
   "cell_type": "markdown",
   "id": "ff904eb4",
   "metadata": {},
   "source": [
    "6. What is a string in Python, and how is it different from a list?\n",
    "    - String in Python is a sequence of characters, be it letters, numbers or symbols written inside a single quotes or double qoutes. String contains only characters but lists can contain any data type. String is immutable and list is mutable."
   ]
  },
  {
   "cell_type": "markdown",
   "id": "3df0372f",
   "metadata": {},
   "source": [
    "7. How do tples ensure data integrity in Python?\n",
    "    - Tuples help protect the data by being immutable, which means one cannot change their content once it is created also it stays accurate and reliable over time."
   ]
  },
  {
   "cell_type": "markdown",
   "id": "bcdb2aa3",
   "metadata": {},
   "source": [
    "8. What is a hash table, and how does it relate to dictionaries in Python?\n",
    "    - A hash table is a data structure that stores data in key-value pairs similar to dictionaries in Python. Like hash table,in dictionaries one can get values quickly using keys, keys must be unique, can be changed or updated."
   ]
  },
  {
   "cell_type": "markdown",
   "id": "071786e0",
   "metadata": {},
   "source": [
    "9. Can lists contain different data types in Python?\n",
    "    - Yes, lists can contain different data types like, integer, float, boolean, strings etc."
   ]
  },
  {
   "cell_type": "markdown",
   "id": "b5c1c21f",
   "metadata": {},
   "source": [
    "10. Explain why strings are immutable in Python?\n",
    "    - Strings are immutable in Python to keep the code safe, fast and reliable. It prevents accidental changes to important texts."
   ]
  },
  {
   "cell_type": "markdown",
   "id": "a03d1223",
   "metadata": {},
   "source": [
    "11. What advantages do dictionaries offer over lists for certain tasks?\n",
    "    - Dictionaries are faster than lists. In a list search can be done by index or value but in dictionary one can directly access the value using a key. Dictionaries are readable like normal english due to it's key-value pairs. It's also perfect for storing attributes of an object."
   ]
  },
  {
   "cell_type": "markdown",
   "id": "193dd270",
   "metadata": {},
   "source": [
    "12. Describe a scenario where using a tuple would be preferable over a list.\n",
    "    - Like storing usernames, coordinates, employee_id's, representing dates and time, product_id's etc. In any scenario where the data needs to be secured and should not change."
   ]
  },
  {
   "cell_type": "markdown",
   "id": "5fcedb12",
   "metadata": {},
   "source": [
    "13. How do sets handle duplicate values in Python?\n",
    "    - Sets actually omits the duplicate or repeated elements and keep the unique ones or one copy of repeated elements."
   ]
  },
  {
   "cell_type": "markdown",
   "id": "074fc318",
   "metadata": {},
   "source": [
    "14. How does the \"in\" keyword work differently for lists and dictionaries?\n",
    "    - In lists it checks values or items is present in the list. But in dictionaries it checks only for keys not values."
   ]
  },
  {
   "cell_type": "markdown",
   "id": "7add71ed",
   "metadata": {},
   "source": [
    "15. Can you modify the elements of a tuple? Explain why or why not?\n",
    "    - No, The elements of a tuple cannot be modified. Because tuples are immutable which means once created, they cannot be changed. It is useful when data should be constant."
   ]
  },
  {
   "cell_type": "markdown",
   "id": "18617e08",
   "metadata": {},
   "source": [
    "16. What is a nested dictionary, and give an example of it's use case?\n",
    "    - Nested dicitionary means when a dictionary is used inside a dictionary. Ex- Details of employees with their employee id(keys) and inside value, there is also a dictionary for storing name, age, salary, designation etc as key-value pair."
   ]
  },
  {
   "cell_type": "markdown",
   "id": "349050e2",
   "metadata": {},
   "source": [
    "17. Describe the time complexity of accessing elements in a dictionary.\n",
    "    - Accessing elements in dictionary is very fast. No matter how large the dictionary is, looking up a key is quick and direct."
   ]
  },
  {
   "cell_type": "markdown",
   "id": "4840cb95",
   "metadata": {},
   "source": [
    "18. In what situations are lists preferred over dictionaries?\n",
    "    - Sutuation where order matters, need to store duplicate items, sort items etc. Use case like shopping cart."
   ]
  },
  {
   "cell_type": "markdown",
   "id": "2afb6f5a",
   "metadata": {},
   "source": [
    "19. Why are dictionaries considered unordered, and how does that affect data retrieval?\n",
    "    - Dictionaries considered unordered because one cannot access elements by position or indexing is not possible like in a list. For data retrieval one can access data by key not by index. No positional access like you can't do mydict[0] in a dictionary."
   ]
  },
  {
   "cell_type": "markdown",
   "id": "fd689807",
   "metadata": {},
   "source": [
    "20. Explain the difference between a list and a dictionary in terms of data retrieval.\n",
    "    - First of all one can access list by indexing but in dictionary accessing with key only. In a list there can be duplicate items but in dictionary there is unique keys though values can be duplicate."
   ]
  },
  {
   "cell_type": "markdown",
   "id": "7de086cf",
   "metadata": {},
   "source": [
    "Practical Questions"
   ]
  },
  {
   "cell_type": "markdown",
   "id": "afd70172",
   "metadata": {},
   "source": [
    "1. Write a code to create a string with your name and print it."
   ]
  },
  {
   "cell_type": "code",
   "execution_count": 1,
   "id": "0bad7334",
   "metadata": {},
   "outputs": [
    {
     "name": "stdout",
     "output_type": "stream",
     "text": [
      "Koushik Rabidas\n"
     ]
    }
   ],
   "source": [
    "name = \"Koushik Rabidas\"\n",
    "print(name)"
   ]
  },
  {
   "cell_type": "markdown",
   "id": "d93a6362",
   "metadata": {},
   "source": [
    "2. Write a code to find the length of the string \"Hello World\""
   ]
  },
  {
   "cell_type": "code",
   "execution_count": 2,
   "id": "25fb96b2",
   "metadata": {},
   "outputs": [
    {
     "name": "stdout",
     "output_type": "stream",
     "text": [
      "11\n"
     ]
    }
   ],
   "source": [
    "str = \"Hello World\"\n",
    "print(len(str))"
   ]
  },
  {
   "cell_type": "markdown",
   "id": "31ee7eef",
   "metadata": {},
   "source": [
    "3. Write a code to slice the first 3 characters from the string \"Python Programming\"."
   ]
  },
  {
   "cell_type": "code",
   "execution_count": 3,
   "id": "912e4ab4",
   "metadata": {},
   "outputs": [
    {
     "data": {
      "text/plain": [
       "'Pyt'"
      ]
     },
     "execution_count": 3,
     "metadata": {},
     "output_type": "execute_result"
    }
   ],
   "source": [
    "str = \"Python Programming\"\n",
    "str[:3]"
   ]
  },
  {
   "cell_type": "markdown",
   "id": "c0ace1b0",
   "metadata": {},
   "source": [
    "4. Write a code to conver the string \"hello\" to uppercase."
   ]
  },
  {
   "cell_type": "code",
   "execution_count": 6,
   "id": "4aae3af7",
   "metadata": {},
   "outputs": [
    {
     "name": "stdout",
     "output_type": "stream",
     "text": [
      "HELLO\n"
     ]
    }
   ],
   "source": [
    "str = \"hello\"\n",
    "print(str.upper())"
   ]
  },
  {
   "cell_type": "markdown",
   "id": "4712aa6b",
   "metadata": {},
   "source": [
    "5. Write a code to replace the \"apple\" with \"orange\" in the string \"I like apple\"."
   ]
  },
  {
   "cell_type": "code",
   "execution_count": 7,
   "id": "ff784ca5",
   "metadata": {},
   "outputs": [
    {
     "name": "stdout",
     "output_type": "stream",
     "text": [
      "I like orange\n"
     ]
    }
   ],
   "source": [
    "str = \"I like apple\"\n",
    "new_str = str.replace(\"apple\", \"orange\")\n",
    "print(new_str)"
   ]
  },
  {
   "cell_type": "markdown",
   "id": "e6eb399c",
   "metadata": {},
   "source": [
    "6. Write a code to create a list with numbers 1 to 5 and print it."
   ]
  },
  {
   "cell_type": "code",
   "execution_count": 9,
   "id": "025e085d",
   "metadata": {},
   "outputs": [
    {
     "name": "stdout",
     "output_type": "stream",
     "text": [
      "[1, 2, 3, 4, 5]\n"
     ]
    }
   ],
   "source": [
    "list1 = []\n",
    "for i in range(1,6):\n",
    "    list1.append(i)\n",
    "print(list1)"
   ]
  },
  {
   "cell_type": "markdown",
   "id": "dabb5cb9",
   "metadata": {},
   "source": [
    "7. Write a code to append the number 10 to the list [1,2,3,4]."
   ]
  },
  {
   "cell_type": "code",
   "execution_count": 10,
   "id": "088b8fcd",
   "metadata": {},
   "outputs": [
    {
     "name": "stdout",
     "output_type": "stream",
     "text": [
      "[1, 2, 3, 4, 10]\n"
     ]
    }
   ],
   "source": [
    "list2 = [1,2,3,4]\n",
    "list2.append(10)\n",
    "print(list2)"
   ]
  },
  {
   "cell_type": "markdown",
   "id": "46af71a7",
   "metadata": {},
   "source": [
    "8. Write a code to remove the number 3 from the list [1,2,3,4,5]."
   ]
  },
  {
   "cell_type": "code",
   "execution_count": 11,
   "id": "51b95dfa",
   "metadata": {},
   "outputs": [
    {
     "name": "stdout",
     "output_type": "stream",
     "text": [
      "[1, 2, 4, 5]\n"
     ]
    }
   ],
   "source": [
    "list3 = [1,2,3,4,5]\n",
    "list3.remove(3)\n",
    "print(list3)"
   ]
  },
  {
   "cell_type": "markdown",
   "id": "a097fae5",
   "metadata": {},
   "source": [
    "9. Write a code to access the second element in the list [\"a\", \"b\", \"c\", \"d\"]."
   ]
  },
  {
   "cell_type": "code",
   "execution_count": 12,
   "id": "2aeebc09",
   "metadata": {},
   "outputs": [
    {
     "name": "stdout",
     "output_type": "stream",
     "text": [
      "b\n"
     ]
    }
   ],
   "source": [
    "list4 = [\"a\", \"b\", \"c\", \"d\"]\n",
    "print(list4[1])"
   ]
  },
  {
   "cell_type": "markdown",
   "id": "b89a58a0",
   "metadata": {},
   "source": [
    "10. Write a code to reverse the list [10,20,30,40,50]."
   ]
  },
  {
   "cell_type": "code",
   "execution_count": 13,
   "id": "0e0d1d1f",
   "metadata": {},
   "outputs": [
    {
     "name": "stdout",
     "output_type": "stream",
     "text": [
      "[50, 40, 30, 20, 10]\n"
     ]
    }
   ],
   "source": [
    "list5 = [10,20,30,40,50]\n",
    "print(list5[::-1])"
   ]
  },
  {
   "cell_type": "markdown",
   "id": "f81167f0",
   "metadata": {},
   "source": [
    "11. Write a code to tuple with the elements 100,200,300 and print it."
   ]
  },
  {
   "cell_type": "code",
   "execution_count": 14,
   "id": "518a67a7",
   "metadata": {},
   "outputs": [
    {
     "name": "stdout",
     "output_type": "stream",
     "text": [
      "(100, 200, 300)\n"
     ]
    }
   ],
   "source": [
    "tuple1 = (100,200,300)\n",
    "print(tuple1)\n",
    "    "
   ]
  },
  {
   "cell_type": "markdown",
   "id": "114d3010",
   "metadata": {},
   "source": [
    "12.  Write a code to access the second-to-last element of the tuple ('red', 'green', 'blue', 'yellow')."
   ]
  },
  {
   "cell_type": "code",
   "execution_count": 15,
   "id": "b82be89b",
   "metadata": {},
   "outputs": [
    {
     "data": {
      "text/plain": [
       "'blue'"
      ]
     },
     "execution_count": 15,
     "metadata": {},
     "output_type": "execute_result"
    }
   ],
   "source": [
    "tuple2 = (\"red\",\"green\",\"blue\",\"yellow\")\n",
    "tuple2[-2]"
   ]
  },
  {
   "cell_type": "markdown",
   "id": "e4fb44fb",
   "metadata": {},
   "source": [
    "13. Write a code to find the minimum number in the tuple (10, 20, 5, 15)."
   ]
  },
  {
   "cell_type": "code",
   "execution_count": 16,
   "id": "d2133791",
   "metadata": {},
   "outputs": [
    {
     "data": {
      "text/plain": [
       "5"
      ]
     },
     "execution_count": 16,
     "metadata": {},
     "output_type": "execute_result"
    }
   ],
   "source": [
    "tuple3 = (10,20,5,15)\n",
    "min(tuple3)"
   ]
  },
  {
   "cell_type": "markdown",
   "id": "9d1adeb4",
   "metadata": {},
   "source": [
    "14. Write a code to find the index of the element \"cat\" in the tuple ('dog', 'cat', 'rabbit')."
   ]
  },
  {
   "cell_type": "code",
   "execution_count": 18,
   "id": "bf91471e",
   "metadata": {},
   "outputs": [
    {
     "data": {
      "text/plain": [
       "1"
      ]
     },
     "execution_count": 18,
     "metadata": {},
     "output_type": "execute_result"
    }
   ],
   "source": [
    "tuple4 = (\"dog\",\"cat\",\"rabbit\")\n",
    "tuple4.index(\"cat\")"
   ]
  },
  {
   "cell_type": "markdown",
   "id": "7e7498b7",
   "metadata": {},
   "source": [
    "15. Write a code to create a tuple containing three different fruits and check if \"kiwi\" is in it."
   ]
  },
  {
   "cell_type": "code",
   "execution_count": 19,
   "id": "ce13628c",
   "metadata": {},
   "outputs": [
    {
     "data": {
      "text/plain": [
       "True"
      ]
     },
     "execution_count": 19,
     "metadata": {},
     "output_type": "execute_result"
    }
   ],
   "source": [
    "tuple5 = (\"apple\", \"banana\", \"kiwi\")\n",
    "\"kiwi\" in tuple5"
   ]
  },
  {
   "cell_type": "markdown",
   "id": "1549a563",
   "metadata": {},
   "source": [
    "16. Write a code to create a set with the elements 'a', 'b', 'c' and print it."
   ]
  },
  {
   "cell_type": "code",
   "execution_count": 20,
   "id": "a7065f6d",
   "metadata": {},
   "outputs": [
    {
     "name": "stdout",
     "output_type": "stream",
     "text": [
      "{'b', 'a', 'c'}\n"
     ]
    }
   ],
   "source": [
    "set1 = {\"a\",\"b\",\"c\"}\n",
    "print(set1)"
   ]
  },
  {
   "cell_type": "markdown",
   "id": "1d560aca",
   "metadata": {},
   "source": [
    "17. Write a code to clear all elements from the set {1, 2, 3, 4, 5}."
   ]
  },
  {
   "cell_type": "code",
   "execution_count": 21,
   "id": "dec1d6ad",
   "metadata": {},
   "outputs": [
    {
     "name": "stdout",
     "output_type": "stream",
     "text": [
      "None\n"
     ]
    }
   ],
   "source": [
    "set2 = {1,2,3,4,5}\n",
    "print(set2.clear())"
   ]
  },
  {
   "cell_type": "markdown",
   "id": "57f307d3",
   "metadata": {},
   "source": [
    "18. Write a code to remove the element 4 from the set {1, 2, 3, 4}."
   ]
  },
  {
   "cell_type": "code",
   "execution_count": 23,
   "id": "9a11d830",
   "metadata": {},
   "outputs": [
    {
     "name": "stdout",
     "output_type": "stream",
     "text": [
      "{1, 2, 3}\n"
     ]
    }
   ],
   "source": [
    "set3 = {1,2,3,4}\n",
    "set3.remove(4)\n",
    "print(set3)"
   ]
  },
  {
   "cell_type": "markdown",
   "id": "859a9655",
   "metadata": {},
   "source": [
    "19. Write a code to find the union of two sets {1, 2, 3} and {3, 4, 5}."
   ]
  },
  {
   "cell_type": "code",
   "execution_count": 27,
   "id": "54d0395c",
   "metadata": {},
   "outputs": [
    {
     "name": "stdout",
     "output_type": "stream",
     "text": [
      "{1, 2, 3, 4, 5}\n"
     ]
    }
   ],
   "source": [
    "set4 = {1,2,3}\n",
    "set5 = {3,4,5}\n",
    "print(set4.union(set5))"
   ]
  },
  {
   "cell_type": "markdown",
   "id": "2ae4a4dc",
   "metadata": {},
   "source": [
    "20. Write a code to find the intersection of two sets {1, 2, 3} and {2, 3, 4}."
   ]
  },
  {
   "cell_type": "code",
   "execution_count": 28,
   "id": "3c3d0868",
   "metadata": {},
   "outputs": [
    {
     "name": "stdout",
     "output_type": "stream",
     "text": [
      "{2, 3}\n"
     ]
    }
   ],
   "source": [
    "set6 = {1,2,3}\n",
    "set7 = {2,3,4}\n",
    "print(set6.intersection(set7))"
   ]
  },
  {
   "cell_type": "markdown",
   "id": "0f8db696",
   "metadata": {},
   "source": [
    "21. Write a code to create a dictionary with the keys \"name\", \"age\", and \"city\", and print it."
   ]
  },
  {
   "cell_type": "code",
   "execution_count": 29,
   "id": "f6437867",
   "metadata": {},
   "outputs": [
    {
     "name": "stdout",
     "output_type": "stream",
     "text": [
      "{'name': 'Koushik', 'age': 31, 'city': 'Kolkata'}\n"
     ]
    }
   ],
   "source": [
    "mydict = {\"name\":\"Koushik\", \"age\": 31, \"city\": \"Kolkata\"}\n",
    "print(mydict)"
   ]
  },
  {
   "cell_type": "markdown",
   "id": "c4939c63",
   "metadata": {},
   "source": [
    "22.  Write a code to add a new key-value pair \"country\": \"USA\" to the dictionary {'name': 'John', 'age': 25}."
   ]
  },
  {
   "cell_type": "code",
   "execution_count": 34,
   "id": "49fc07cd",
   "metadata": {},
   "outputs": [
    {
     "name": "stdout",
     "output_type": "stream",
     "text": [
      "{'name': 'John', 'age': 25, 'country': 'USA'}\n"
     ]
    }
   ],
   "source": [
    "mydict2 = {\"name\": \"John\",\"age\": 25}\n",
    "mydict2[\"country\"] = \"USA\"\n",
    "print(mydict2)"
   ]
  },
  {
   "cell_type": "markdown",
   "id": "6a45e2e8",
   "metadata": {},
   "source": [
    "23. Write a code to access the value associated with the key \"name\" in the dictionary {'name': 'Alice', 'age': 30}."
   ]
  },
  {
   "cell_type": "code",
   "execution_count": 35,
   "id": "2c7f8592",
   "metadata": {},
   "outputs": [
    {
     "data": {
      "text/plain": [
       "'Alice'"
      ]
     },
     "execution_count": 35,
     "metadata": {},
     "output_type": "execute_result"
    }
   ],
   "source": [
    "mydict3 = {\"name\": \"Alice\", \"age\": 30}\n",
    "mydict3.get(\"name\")"
   ]
  },
  {
   "cell_type": "markdown",
   "id": "6728da53",
   "metadata": {},
   "source": [
    "24. Write a code to remove the key \"age\" from the dictionary {'name': 'Bob', 'age': 22, 'city': 'New York'}."
   ]
  },
  {
   "cell_type": "code",
   "execution_count": 37,
   "id": "84bdcb86",
   "metadata": {},
   "outputs": [
    {
     "name": "stdout",
     "output_type": "stream",
     "text": [
      "{'name': 'Bob', 'city': 'New York'}\n"
     ]
    }
   ],
   "source": [
    "mydict4 = {\"name\":\"Bob\",\"age\": 22,\"city\": \"New York\"}\n",
    "mydict4.pop(\"age\")\n",
    "print(mydict4)"
   ]
  },
  {
   "cell_type": "markdown",
   "id": "90e33450",
   "metadata": {},
   "source": [
    "25.  Write a code to check if the key \"city\" exists in the dictionary {'name': 'Alice', 'city': 'Paris'}."
   ]
  },
  {
   "cell_type": "code",
   "execution_count": 39,
   "id": "ad65b1bd",
   "metadata": {},
   "outputs": [
    {
     "data": {
      "text/plain": [
       "True"
      ]
     },
     "execution_count": 39,
     "metadata": {},
     "output_type": "execute_result"
    }
   ],
   "source": [
    "mydict5 = {\"name\":\"Alice\",\"city\":\"Paris\"}\n",
    "\"city\" in mydict5"
   ]
  },
  {
   "cell_type": "markdown",
   "id": "26f57bed",
   "metadata": {},
   "source": [
    "26. Write a code to create a list, a tuple, and a dictionary, and print them all."
   ]
  },
  {
   "cell_type": "code",
   "execution_count": 42,
   "id": "d5055cc0",
   "metadata": {},
   "outputs": [
    {
     "name": "stdout",
     "output_type": "stream",
     "text": [
      "[1, 2, 3, 4, 5] \n",
      " (1, 2, 3, 4, 5) \n",
      " {'name': 'Koushik', 'age': 31}\n"
     ]
    }
   ],
   "source": [
    "a_list = [1,2,3,4,5]\n",
    "a_tuple = (1,2,3,4,5)\n",
    "a_dict = {\"name\":\"Koushik\",\"age\": 31}\n",
    "print(a_list,\"\\n\",a_tuple,\"\\n\",a_dict)"
   ]
  },
  {
   "cell_type": "markdown",
   "id": "6edb1899",
   "metadata": {},
   "source": [
    "27. Write a code to create a list of 5 random numbers between 1 and 100, sort it in ascending order, and print the\n",
    "result.(replaced)."
   ]
  },
  {
   "cell_type": "code",
   "execution_count": null,
   "id": "d7030ac2",
   "metadata": {},
   "outputs": [
    {
     "name": "stdout",
     "output_type": "stream",
     "text": [
      "[21, 34, 35, 76, 84]\n",
      "[21, 34, 35, 76, 84]\n"
     ]
    }
   ],
   "source": [
    "randomlist = [76,35,84,34,21]\n",
    "randomlist.sort()\n",
    "print(randomlist)"
   ]
  },
  {
   "cell_type": "markdown",
   "id": "d019940e",
   "metadata": {},
   "source": [
    "28. Write a code to create a list with strings and print the element at the third index."
   ]
  },
  {
   "cell_type": "code",
   "execution_count": 47,
   "id": "4a8caa26",
   "metadata": {},
   "outputs": [
    {
     "name": "stdout",
     "output_type": "stream",
     "text": [
      "BMW\n"
     ]
    }
   ],
   "source": [
    "list6 = [\"Tata\", \"Mahindra\", \"Maruti\", \"BMW\", \"Audi\"]\n",
    "print(list6[3])"
   ]
  },
  {
   "cell_type": "markdown",
   "id": "a783c72d",
   "metadata": {},
   "source": [
    "29. Write a code to combine two dictionaries into one and print the result."
   ]
  },
  {
   "cell_type": "code",
   "execution_count": 48,
   "id": "8b266186",
   "metadata": {},
   "outputs": [
    {
     "name": "stdout",
     "output_type": "stream",
     "text": [
      "{'name': 'Koushik', 'Age': 31, 'course': 'Data Analytics', 'platform': 'pwskills'}\n"
     ]
    }
   ],
   "source": [
    "mydict6 = {\"name\":\"Koushik\", \"Age\":31}\n",
    "mydict7 = {\"course\": \"Data Analytics\",\"platform\": \"pwskills\"}\n",
    "mydict6.update(mydict7)\n",
    "print(mydict6)"
   ]
  },
  {
   "cell_type": "markdown",
   "id": "e7fe3bab",
   "metadata": {},
   "source": [
    "30. Write a code to convert a list of strings into a set."
   ]
  },
  {
   "cell_type": "code",
   "execution_count": 52,
   "id": "53cf7053",
   "metadata": {},
   "outputs": [
    {
     "name": "stdout",
     "output_type": "stream",
     "text": [
      "{'Asus', 'Lenovo', 'HP', 'MSI'}\n"
     ]
    },
    {
     "data": {
      "text/plain": [
       "set"
      ]
     },
     "execution_count": 52,
     "metadata": {},
     "output_type": "execute_result"
    }
   ],
   "source": [
    "list7 = [\"HP\",\"Asus\",\"MSI\",\"Lenovo\"]\n",
    "converted_to_set = set(list7)\n",
    "print(converted_to_set)\n",
    "type(converted_to_set)"
   ]
  }
 ],
 "metadata": {
  "kernelspec": {
   "display_name": "Python 3",
   "language": "python",
   "name": "python3"
  },
  "language_info": {
   "codemirror_mode": {
    "name": "ipython",
    "version": 3
   },
   "file_extension": ".py",
   "mimetype": "text/x-python",
   "name": "python",
   "nbconvert_exporter": "python",
   "pygments_lexer": "ipython3",
   "version": "3.13.2"
  }
 },
 "nbformat": 4,
 "nbformat_minor": 5
}
